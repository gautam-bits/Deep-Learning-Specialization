{
  "nbformat": 4,
  "nbformat_minor": 0,
  "metadata": {
    "colab": {
      "name": "Untitled2.ipynb",
      "provenance": [],
      "collapsed_sections": [],
      "authorship_tag": "ABX9TyOpYUKSuT/mTyWqcN0LoTZl",
      "include_colab_link": true
    },
    "kernelspec": {
      "name": "python3",
      "display_name": "Python 3"
    }
  },
  "cells": [
    {
      "cell_type": "markdown",
      "metadata": {
        "id": "view-in-github",
        "colab_type": "text"
      },
      "source": [
        "<a href=\"https://colab.research.google.com/github/gautam-bits/Deep-Learning-Specialization/blob/master/Untitled2.ipynb\" target=\"_parent\"><img src=\"https://colab.research.google.com/assets/colab-badge.svg\" alt=\"Open In Colab\"/></a>"
      ]
    },
    {
      "cell_type": "markdown",
      "metadata": {
        "id": "CbNzOpX31d0q"
      },
      "source": [
        "# Classification of Handwritten digit 0-9 from the MNIST dataset\n",
        "\n",
        "Name - Gautam Bhambhani <BR>\n",
        "ID - 2019A7PS0101P\n",
        "<BR>\n",
        "\n",
        "Classifaction of 70000 handwritted digits 0-9 (MNIST dataset) in which the input was a 24*24 grayscale image and the network has to classify it .\n",
        "\n",
        "A simple deep neural net was used with 4 layers(1 input, 2 hidden, 1 output)\n",
        "\n",
        "After tuning some hyperparameters the best accuracy was found out to be 78%.\n",
        "\n",
        "I have tried to keep the code simple and well commented.\n",
        "\n"
      ]
    },
    {
      "cell_type": "code",
      "metadata": {
        "id": "L9zGX8Guw4HB"
      },
      "source": [
        "#all the imports of libraries and datasets\n",
        "from sklearn.datasets import fetch_openml                          #fetch open ml fetches the dataset from the server\n",
        "from keras.utils.np_utils import to_categorical                    #Converts a class vector (integers) to binary class matrix.\n",
        "import numpy as np                                                 #for linear algebra calculations\n",
        "from sklearn.model_selection import train_test_split               #Split arrays or matrices into random train and test subsets               \n",
        "import time\n",
        "\n"
      ],
      "execution_count": null,
      "outputs": []
    },
    {
      "cell_type": "markdown",
      "metadata": {
        "id": "xiC1yLJp1b_4"
      },
      "source": [
        ""
      ]
    },
    {
      "cell_type": "code",
      "metadata": {
        "id": "4RqO01CGxPAj",
        "outputId": "8585f2a6-2603-4492-bbe5-fd35b8df4589",
        "colab": {
          "base_uri": "https://localhost:8080/",
          "height": 151
        }
      },
      "source": [
        "x, y = fetch_openml('mnist_784', version=1, return_X_y=True)\n",
        "x = (x/255).astype('float32')    #x = (70000, 784)               #divide by 255 to get a value between 0 and 1\n",
        "#print(y)\n",
        "y = to_categorical(y)                                            #same as one hot encoder\n",
        "#print(y)\n",
        "x_train, x_val, y_train, y_val = train_test_split(x, y, test_size=0.15, random_state=42)"
      ],
      "execution_count": null,
      "outputs": [
        {
          "output_type": "stream",
          "text": [
            "['5' '0' '4' ... '4' '5' '6']\n",
            "[[0. 0. 0. ... 0. 0. 0.]\n",
            " [1. 0. 0. ... 0. 0. 0.]\n",
            " [0. 0. 0. ... 0. 0. 0.]\n",
            " ...\n",
            " [0. 0. 0. ... 0. 0. 0.]\n",
            " [0. 0. 0. ... 0. 0. 0.]\n",
            " [0. 0. 0. ... 0. 0. 0.]]\n"
          ],
          "name": "stdout"
        }
      ]
    },
    {
      "cell_type": "code",
      "metadata": {
        "id": "oGC3v3EL7R4R"
      },
      "source": [
        "class DeepNeuralNetwork():\n",
        "    def __init__(self, sizes, epochs=10, l_rate=0.01):   #constructor     \n",
        "        self.sizes = sizes\n",
        "        self.epochs = epochs\n",
        "        self.l_rate = l_rate\n",
        "\n",
        "      \n",
        "        self.params = self.initialization()       #all the parameters w are stored in params dict\n",
        "\n",
        "    def sigmoid(self, x, derivative=False):      #our activation function\n",
        "        if derivative:\n",
        "            return (np.exp(-x))/((np.exp(-x)+1)**2)\n",
        "        else:\n",
        "          return 1/(1 + np.exp(-x))\n",
        "\n",
        "    def softmax(self, x, derivative=False):        #why? because it is numerically stable with large exponents\n",
        "        \n",
        "        exps = np.exp(x - x.max())\n",
        "        if derivative:\n",
        "            return exps / np.sum(exps, axis=0) * (1 - exps / np.sum(exps, axis=0))\n",
        "        return exps / np.sum(exps, axis=0)\n",
        "\n",
        "    def initialization(self):\n",
        "        # number of nodes in each layer\n",
        "        input_layer=self.sizes[0]\n",
        "        hidden_1=self.sizes[1]\n",
        "        hidden_2=self.sizes[2]\n",
        "        output_layer=self.sizes[3]\n",
        "\n",
        "        params = {\n",
        "            'W1':np.random.randn(hidden_1, input_layer) * np.sqrt(1. / hidden_1),\n",
        "            'W2':np.random.randn(hidden_2, hidden_1) * np.sqrt(1. / hidden_2),\n",
        "            'W3':np.random.randn(output_layer, hidden_2) * np.sqrt(1. / output_layer)\n",
        "        }\n",
        "\n",
        "        return params\n",
        "\n",
        "    def forward_pass(self, x_train):\n",
        "        '''\n",
        "            This is the forward propagation part, for predicting the value of \n",
        "            y .\n",
        "              \n",
        "        '''       \n",
        "        params = self.params\n",
        "\n",
        "        # input layer activations becomes sample\n",
        "        params['A0'] = x_train\n",
        "\n",
        "        # input layer to hidden layer 1\n",
        "        params['Z1'] = np.dot(params[\"W1\"], params['A0'])\n",
        "        params['A1'] = self.sigmoid(params['Z1'])\n",
        "\n",
        "        # hidden layer 1 to hidden layer 2\n",
        "        params['Z2'] = np.dot(params[\"W2\"], params['A1'])\n",
        "        params['A2'] = self.sigmoid(params['Z2'])\n",
        "\n",
        "        # hidden layer 2 to output layer\n",
        "        params['Z3'] = np.dot(params[\"W3\"], params['A2'])\n",
        "        params['A3'] = self.softmax(params['Z3'])\n",
        "\n",
        "        return params['A3']\n",
        "\n",
        "    def backward_pass(self, y_train, output):\n",
        "        '''\n",
        "            This is the backpropagation algorithm, for calculating the updates\n",
        "            of the neural network's parameters.\n",
        "              \n",
        "        '''\n",
        "        params = self.params\n",
        "        change_w = {}\n",
        "\n",
        "        # Calculate W3 update\n",
        "        error = 2 * (output - y_train) / output.shape[0] * self.softmax(params['Z3'], derivative=True)\n",
        "        change_w['W3'] = np.outer(error, params['A2'])\n",
        "\n",
        "        # Calculate W2 update\n",
        "        error = np.dot(params['W3'].T, error) * self.sigmoid(params['Z2'], derivative=True)\n",
        "        change_w['W2'] = np.outer(error, params['A1'])\n",
        "\n",
        "        # Calculate W1 update\n",
        "        error = np.dot(params['W2'].T, error) * self.sigmoid(params['Z1'], derivative=True)\n",
        "        change_w['W1'] = np.outer(error, params['A0'])\n",
        "\n",
        "        return change_w\n",
        "\n",
        "    def update_parameters(self, changes_to_w):\n",
        "        '''\n",
        "            This updates the parameters of the nn \n",
        "\n",
        "        '''\n",
        "        \n",
        "        for key, value in changes_to_w.items():\n",
        "            self.params[key] -= self.l_rate * value\n",
        "\n",
        "    def compute_accuracy(self, x_val, y_val):\n",
        "        '''\n",
        "        This basically calculates the accuracy over all the 70000 images\n",
        "        '''\n",
        "        \n",
        "        predictions = []  \n",
        "\n",
        "        for x, y in zip(x_val, y_val):\n",
        "            output = self.forward_pass(x)\n",
        "            pred = np.argmax(output)\n",
        "            predictions.append(pred == np.argmax(y))\n",
        "        \n",
        "        return np.mean(predictions)\n",
        "\n",
        "    def train(self, x_train, y_train, x_val, y_val):\n",
        "        start_time = time.time()\n",
        "        print('Training Started')\n",
        "        for iteration in range(self.epochs):\n",
        "            for x,y in zip(x_train, y_train):\n",
        "                output = self.forward_pass(x)\n",
        "                changes_to_w = self.backward_pass(y, output)\n",
        "                self.update_parameters(changes_to_w)\n",
        "            \n",
        "            accuracy = self.compute_accuracy(x_val, y_val)\n",
        "            print('Epoch: {0}, Time Spent: {1:.2f}s, Accuracy: {2:.2f}%'.format(iteration+1, time.time() - start_time, accuracy * 100\n",
        "            ))\n",
        "\n",
        "    def test(self)"
      ],
      "execution_count": null,
      "outputs": []
    },
    {
      "cell_type": "code",
      "metadata": {
        "id": "j58PV_D77aUE",
        "outputId": "7f2ae17d-538a-4ef0-aad8-0089300a8c6a",
        "colab": {
          "base_uri": "https://localhost:8080/",
          "height": 202
        }
      },
      "source": [
        "dnn = DeepNeuralNetwork(sizes=[784, 128, 64, 10])\n",
        "dnn.train(x_train, y_train, x_val, y_val)"
      ],
      "execution_count": null,
      "outputs": [
        {
          "output_type": "stream",
          "text": [
            "Training Started\n",
            "Epoch: 1, Time Spent: 57.00s, Accuracy: 54.10%\n",
            "Epoch: 2, Time Spent: 114.15s, Accuracy: 65.81%\n",
            "Epoch: 3, Time Spent: 171.31s, Accuracy: 70.79%\n",
            "Epoch: 4, Time Spent: 233.13s, Accuracy: 74.91%\n",
            "Epoch: 5, Time Spent: 290.37s, Accuracy: 76.84%\n",
            "Epoch: 6, Time Spent: 347.39s, Accuracy: 77.69%\n",
            "Epoch: 7, Time Spent: 404.70s, Accuracy: 77.95%\n",
            "Epoch: 8, Time Spent: 461.86s, Accuracy: 78.61%\n",
            "Epoch: 9, Time Spent: 518.63s, Accuracy: 79.33%\n",
            "Epoch: 10, Time Spent: 575.74s, Accuracy: 79.94%\n"
          ],
          "name": "stdout"
        }
      ]
    },
    {
      "cell_type": "markdown",
      "metadata": {
        "id": "6vdKA_xE5crp"
      },
      "source": [
        "### The accuracy in the end with seed = 42 layer size = [784, 128, 64, 10] alpha = 0.01 is approximately 78.37% which is pretty good considering it is a simple neural network\n",
        "\n",
        "###The time taken was approximately 10 minutes for 10 epochs(episodes)\n",
        "\n",
        "\n",
        "#Thank You!"
      ]
    },
    {
      "cell_type": "code",
      "metadata": {
        "id": "UdPC3-l05b20"
      },
      "source": [
        ""
      ],
      "execution_count": null,
      "outputs": []
    },
    {
      "cell_type": "code",
      "metadata": {
        "id": "7nqiAVfIw_NJ"
      },
      "source": [
        "\n",
        "\n",
        "\n"
      ],
      "execution_count": null,
      "outputs": []
    }
  ]
}